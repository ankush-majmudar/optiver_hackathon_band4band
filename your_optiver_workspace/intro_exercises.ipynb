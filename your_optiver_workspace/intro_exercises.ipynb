{
 "cells": [
  {
   "cell_type": "code",
   "execution_count": null,
   "metadata": {},
   "outputs": [
    {
     "name": "stderr",
     "output_type": "stream",
     "text": [
      "2025-10-22 15:36:39,174 [asyncio   ] [MainThread  ] Using selector: EpollSelector\n"
     ]
    },
    {
     "name": "stdout",
     "output_type": "stream",
     "text": [
      "PriceBook(SHELL 2025-10-22 15:36:39.197325)\n",
      " #bids | price | #asks \n",
      "       | 399.0 |  600  \n",
      "       | 398.4 |  300  \n",
      "       | 397.8 |  3000 \n",
      "  3000 | 397.6 |       \n",
      "  600  | 397.4 |       \n",
      "  300  | 396.7 |       \n"
     ]
    },
    {
     "name": "stderr",
     "output_type": "stream",
     "text": [
      "2025-10-22 15:36:53,320 [client    ] [Thread-13 (_thread_entry_point)] Forcing a disconnect due to an error: Closing connection because someone else logged in with the same credentials. Only one session may be active at the same time.\n"
     ]
    }
   ],
   "source": [
    "import logging\n",
    "from optibook.synchronous_client import Exchange\n",
    "\n",
    "exchange = Exchange()\n",
    "exchange.connect()\n",
    "\n",
    "logging.getLogger('client').setLevel('ERROR')\n",
    "\n",
    "STOCK_IDS = ['AZN', 'BARCLAYS', 'BP', 'LLOYDS', 'SBRY', 'SHELL', 'TESCO', 'VODAFONE']\n",
    "stock_order_book = exchange.get_last_price_book(\"SHELL\")\n",
    "print(stock_order_book)\n",
    "if not (stock_order_book and stock_order_book.bids and stock_order_book.asks):\n",
    "    print(f'Order book for {stock_id} does not have bids or offers. Skipping iteration.')\n",
    "    continue\n",
    "\n",
    "best_bid_price = stock_order_book.bids[0].price\n",
    "best_ask_price = stock_order_book.asks[0].price\n",
    "print(best_bid_price)\n",
    "print(best_ask_price)\n",
    "exchange.insert_order(\n",
    "    instrument_id=stock_id,\n",
    "    price=price,\n",
    "    volume=volume,\n",
    "    side=side,\n",
    "    order_type='ioc')\n"
   ]
  }
 ],
 "metadata": {
  "kernelspec": {
   "display_name": "Python 3",
   "language": "python",
   "name": "python3"
  },
  "language_info": {
   "codemirror_mode": {
    "name": "ipython",
    "version": 3
   },
   "file_extension": ".py",
   "mimetype": "text/x-python",
   "name": "python",
   "nbconvert_exporter": "python",
   "pygments_lexer": "ipython3",
   "version": "3.10.17"
  }
 },
 "nbformat": 4,
 "nbformat_minor": 2
}
